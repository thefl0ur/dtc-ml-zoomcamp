{
 "cells": [
  {
   "cell_type": "markdown",
   "metadata": {},
   "source": [
    "## Homework for Module 2: Machine Learning for Regression\n",
    "\n",
    "For this homework, we'll use the Car Fuel Efficiency dataset. Download it from [here](https://raw.githubusercontent.com/alexeygrigorev/datasets/master/car_fuel_efficiency.csv).\n",
    "\n",
    "The goal of this homework is to create a regression model for predicting the car fuel efficiency (column `fuel_efficiency_mpg`).\n",
    "\n",
    "Use only the following columns:\n",
    "\n",
    "`engine_displacement`,\n",
    "`horsepower`,\n",
    "`vehicle_weight`,\n",
    "`model_year`,\n",
    "`fuel_efficiency_mpg`"
   ]
  },
  {
   "cell_type": "code",
   "execution_count": 56,
   "metadata": {},
   "outputs": [
    {
     "data": {
      "text/html": [
       "<div>\n",
       "<style scoped>\n",
       "    .dataframe tbody tr th:only-of-type {\n",
       "        vertical-align: middle;\n",
       "    }\n",
       "\n",
       "    .dataframe tbody tr th {\n",
       "        vertical-align: top;\n",
       "    }\n",
       "\n",
       "    .dataframe thead th {\n",
       "        text-align: right;\n",
       "    }\n",
       "</style>\n",
       "<table border=\"1\" class=\"dataframe\">\n",
       "  <thead>\n",
       "    <tr style=\"text-align: right;\">\n",
       "      <th></th>\n",
       "      <th>engine_displacement</th>\n",
       "      <th>horsepower</th>\n",
       "      <th>vehicle_weight</th>\n",
       "      <th>model_year</th>\n",
       "      <th>fuel_efficiency_mpg</th>\n",
       "    </tr>\n",
       "  </thead>\n",
       "  <tbody>\n",
       "    <tr>\n",
       "      <th>0</th>\n",
       "      <td>170</td>\n",
       "      <td>159.0</td>\n",
       "      <td>3413.433759</td>\n",
       "      <td>2003</td>\n",
       "      <td>13.231729</td>\n",
       "    </tr>\n",
       "    <tr>\n",
       "      <th>1</th>\n",
       "      <td>130</td>\n",
       "      <td>97.0</td>\n",
       "      <td>3149.664934</td>\n",
       "      <td>2007</td>\n",
       "      <td>13.688217</td>\n",
       "    </tr>\n",
       "    <tr>\n",
       "      <th>2</th>\n",
       "      <td>170</td>\n",
       "      <td>78.0</td>\n",
       "      <td>3079.038997</td>\n",
       "      <td>2018</td>\n",
       "      <td>14.246341</td>\n",
       "    </tr>\n",
       "    <tr>\n",
       "      <th>3</th>\n",
       "      <td>220</td>\n",
       "      <td>NaN</td>\n",
       "      <td>2542.392402</td>\n",
       "      <td>2009</td>\n",
       "      <td>16.912736</td>\n",
       "    </tr>\n",
       "    <tr>\n",
       "      <th>4</th>\n",
       "      <td>210</td>\n",
       "      <td>140.0</td>\n",
       "      <td>3460.870990</td>\n",
       "      <td>2009</td>\n",
       "      <td>12.488369</td>\n",
       "    </tr>\n",
       "  </tbody>\n",
       "</table>\n",
       "</div>"
      ],
      "text/plain": [
       "   engine_displacement  horsepower  vehicle_weight  model_year  \\\n",
       "0                  170       159.0     3413.433759        2003   \n",
       "1                  130        97.0     3149.664934        2007   \n",
       "2                  170        78.0     3079.038997        2018   \n",
       "3                  220         NaN     2542.392402        2009   \n",
       "4                  210       140.0     3460.870990        2009   \n",
       "\n",
       "   fuel_efficiency_mpg  \n",
       "0            13.231729  \n",
       "1            13.688217  \n",
       "2            14.246341  \n",
       "3            16.912736  \n",
       "4            12.488369  "
      ]
     },
     "execution_count": 56,
     "metadata": {},
     "output_type": "execute_result"
    }
   ],
   "source": [
    "import pandas as pd\n",
    "import requests\n",
    "\n",
    "from pathlib import Path\n",
    "\n",
    "\n",
    "FILE_NAME = \"car_fuel_efficiency.csv\"\n",
    "\n",
    "\n",
    "def fetch():\n",
    "    resp = requests.get(\n",
    "        f\"https://raw.githubusercontent.com/alexeygrigorev/datasets/master/{FILE_NAME}\",\n",
    "        allow_redirects=False,\n",
    "        timeout=10,\n",
    "    )\n",
    "\n",
    "    resp.raise_for_status()\n",
    "\n",
    "    with open(FILE_NAME, \"w\") as f:\n",
    "        f.write(resp.text)\n",
    "\n",
    "if not Path(FILE_NAME).exists():\n",
    "    fetch()\n",
    "\n",
    "df = pd.read_csv(FILE_NAME)[['engine_displacement', 'horsepower', 'vehicle_weight', 'model_year', 'fuel_efficiency_mpg']]\n",
    "df.head()"
   ]
  },
  {
   "cell_type": "markdown",
   "metadata": {},
   "source": [
    "## Question 1\n",
    "\n",
    "There's one column with missing values. What is it?"
   ]
  },
  {
   "cell_type": "code",
   "execution_count": 57,
   "metadata": {},
   "outputs": [
    {
     "data": {
      "text/plain": [
       "engine_displacement    False\n",
       "horsepower              True\n",
       "vehicle_weight         False\n",
       "model_year             False\n",
       "fuel_efficiency_mpg    False\n",
       "dtype: bool"
      ]
     },
     "execution_count": 57,
     "metadata": {},
     "output_type": "execute_result"
    }
   ],
   "source": [
    "df.isnull().any()"
   ]
  },
  {
   "cell_type": "markdown",
   "metadata": {},
   "source": [
    "## Question 2\n",
    "\n",
    "What's the median (50% percentile) for variable `horsepower`?"
   ]
  },
  {
   "cell_type": "code",
   "execution_count": 58,
   "metadata": {},
   "outputs": [
    {
     "data": {
      "text/plain": [
       "np.float64(149.0)"
      ]
     },
     "execution_count": 58,
     "metadata": {},
     "output_type": "execute_result"
    }
   ],
   "source": [
    "df['horsepower'].median()"
   ]
  },
  {
   "cell_type": "markdown",
   "metadata": {},
   "source": [
    "### Splitting dataset into train/val/test sets\n",
    "\n",
    "Shuffle the dataset (the filtered one you created above), use seed 42.\n",
    "\n",
    "Split your data in train/val/test sets, with 60%/20%/20% distribution.\n",
    "\n",
    "Use the same code as in the lectures.\n"
   ]
  },
  {
   "cell_type": "code",
   "execution_count": 63,
   "metadata": {},
   "outputs": [],
   "source": [
    "import numpy as np\n",
    "\n",
    "def get_datasets(seed):\n",
    "    len_df = len(df)\n",
    "\n",
    "    len_val = int(len_df * 0.2)\n",
    "    len_test = int(len_df * 0.2)\n",
    "    len_train = len_df - len_val - len_test\n",
    "\n",
    "    df_train = df.iloc[:len_train]\n",
    "    df_val = df.iloc[len_train:len_train+len_val]\n",
    "    df_test = df.iloc[len_train+len_val:]\n",
    "\n",
    "    idx = np.arange(len_df)\n",
    "    np.random.seed(seed)\n",
    "    np.random.shuffle(idx)\n",
    "\n",
    "    df_train = df.iloc[idx[:len_train]]\n",
    "    df_val = df.iloc[idx[len_train:len_train+len_val]]\n",
    "    df_test = df.iloc[idx[len_train+len_val:]]\n",
    "\n",
    "    X_train = df_train.reset_index(drop=True)\n",
    "    X_val = df_val.reset_index(drop=True)\n",
    "    X_test = df_test.reset_index(drop=True)\n",
    "\n",
    "    y_train = df_train.fuel_efficiency_mpg.values\n",
    "    y_val = df_val.fuel_efficiency_mpg.values\n",
    "    y_test = df_test.fuel_efficiency_mpg.values\n",
    "\n",
    "    del X_train['fuel_efficiency_mpg']\n",
    "    del X_val['fuel_efficiency_mpg']\n",
    "    del X_test['fuel_efficiency_mpg']\n",
    "\n",
    "    return X_train, X_val, X_test, y_train, y_val, y_test"
   ]
  },
  {
   "cell_type": "code",
   "execution_count": 67,
   "metadata": {},
   "outputs": [],
   "source": [
    "X_train, X_val, X_test, y_train, y_val, y_test = get_datasets(42)"
   ]
  },
  {
   "cell_type": "markdown",
   "metadata": {},
   "source": [
    "## Question 3\n",
    "\n",
    "We need to deal with missing values for the column from Q1.\n",
    "\n",
    "We have two options: fill it with 0 or with the mean of this variable.\n",
    "\n",
    "Try both options. For each, train a linear regression model without regularization using the code from \n",
    "the lessons.\n",
    "\n",
    "For computing the mean, use the training only!\n",
    "\n",
    "Use the validation dataset to evaluate the models and compare the RMSE of each option.\n",
    "\n",
    "Round the RMSE scores to 2 decimal digits using round(score, 2)\n",
    "\n",
    "Which option gives better RMSE?"
   ]
  },
  {
   "cell_type": "code",
   "execution_count": 72,
   "metadata": {},
   "outputs": [
    {
     "name": "stdout",
     "output_type": "stream",
     "text": [
      "RMSE for filled with zero: 0.5173782638832584\n",
      "RMSE for filled with mean: 0.46362369950052107\n"
     ]
    }
   ],
   "source": [
    "def train_linear_regression(X, y):\n",
    "    ones = np.ones(X.shape[0])\n",
    "    X = np.column_stack([ones, X])\n",
    "\n",
    "    XTX = X.T.dot(X)\n",
    "    XTX_inv = np.linalg.inv(XTX)\n",
    "    w_full = XTX_inv.dot(X.T).dot(y)\n",
    "    \n",
    "    return w_full[0], w_full[1:]\n",
    "\n",
    "def predict(X, w0, w):\n",
    "    return w0 + X.dot(w)\n",
    "\n",
    "def rmse(y, y_pred):\n",
    "    se = (y - y_pred) ** 2\n",
    "    mse = se.mean()\n",
    "    return np.sqrt(mse)\n",
    "\n",
    "\n",
    "X_train_zero = X_train.copy()\n",
    "X_train_zero = X_train_zero.fillna(0)\n",
    "\n",
    "X_train_mean = X_train.copy()\n",
    "X_train_mean = X_train_mean.fillna(X_train_mean['horsepower'].mean())\n",
    "\n",
    "w0_zero, w_zero = train_linear_regression(X_train_zero, y_train)\n",
    "w0_mean, w_mean = train_linear_regression(X_train_mean, y_train)\n",
    "\n",
    "\n",
    "X_val_zero = X_val.copy()\n",
    "X_val_zero = X_val_zero.fillna(0)\n",
    "\n",
    "y_zero_pred = predict(X_val_zero, w0_zero, w_zero)\n",
    "\n",
    "X_val_mean = X_val.copy()\n",
    "X_val_mean = X_val_mean.fillna(X_val_mean['horsepower'].mean())\n",
    "\n",
    "y_mean_pred = predict(X_val_mean, w0_mean, w_mean)\n",
    "\n",
    "rmse_zero = rmse(y_val, y_zero_pred)\n",
    "rmse_mean = rmse(y_val, y_mean_pred)\n",
    "\n",
    "print(f\"RMSE for filled with zero: {rmse_zero}\")\n",
    "print(f\"RMSE for filled with mean: {rmse_mean}\")"
   ]
  },
  {
   "cell_type": "markdown",
   "metadata": {},
   "source": [
    "## Question 4\n",
    "\n",
    "Now let's train a regularized linear regression.\n",
    "\n",
    "For this question, fill the NAs with 0.\n",
    "\n",
    "Try different values of r from this list: [0, 0.01, 0.1, 1, 5, 10, 100].\n",
    "\n",
    "Use RMSE to evaluate the model on the validation dataset.\n",
    "\n",
    "Round the RMSE scores to 2 decimal digits.\n",
    "\n",
    "Which r gives the best RMSE?\n",
    "\n",
    "If there are multiple options, select the smallest r."
   ]
  },
  {
   "cell_type": "code",
   "execution_count": 73,
   "metadata": {},
   "outputs": [
    {
     "data": {
      "text/plain": [
       "(np.float64(0.5171115525773323), 0.01)"
      ]
     },
     "execution_count": 73,
     "metadata": {},
     "output_type": "execute_result"
    }
   ],
   "source": [
    "def train_linear_regression_with_reg(X, y, r):\n",
    "    ones = np.ones(X.shape[0])\n",
    "    X = np.column_stack([ones, X])\n",
    "\n",
    "    XTX = X.T.dot(X)\n",
    "    XTX = XTX + r * np.eye(XTX.shape[0])\n",
    "    XTX_inv = np.linalg.inv(XTX)\n",
    "    w_full = XTX_inv.dot(X.T).dot(y)\n",
    "    \n",
    "    return w_full[0], w_full[1:]\n",
    "\n",
    "min_rmse = None\n",
    "for r in [0, 0.01, 0.1, 1, 5, 10, 100]:\n",
    "    X_train_zero = X_train.copy()\n",
    "    X_train_zero = X_train_zero.fillna(0)\n",
    "    \n",
    "    w0, w = train_linear_regression_with_reg(X_train_zero, y_train, r)\n",
    "\n",
    "    X_val_zero = X_val.copy()\n",
    "    X_val_zero = X_val_zero.fillna(0)\n",
    "\n",
    "    y_train_zero_pred = predict(X_val_zero, w0, w)\n",
    "    error = rmse(y_val, y_train_zero_pred)\n",
    "\n",
    "    if not min_rmse:\n",
    "        min_rmse = (error, r)\n",
    "    elif error < min_rmse[0]:\n",
    "        min_rmse = (error, r)\n",
    "\n",
    "min_rmse"
   ]
  },
  {
   "cell_type": "markdown",
   "metadata": {},
   "source": [
    "## Question 5\n",
    "\n",
    "We used seed 42 for splitting the data. Let's find out how selecting the seed influences our score.\n",
    "\n",
    "Try different seed values: [0, 1, 2, 3, 4, 5, 6, 7, 8, 9].\n",
    "\n",
    "For each seed, do the train/validation/test split with 60%/20%/20% distribution.\n",
    "\n",
    "Fill the missing values with 0 and train a model without regularization.\n",
    "\n",
    "For each seed, evaluate the model on the validation dataset and collect the RMSE scores.\n",
    "\n",
    "What's the standard deviation of all the scores? To compute the standard deviation, use np.std.\n",
    "\n",
    "Round the result to 3 decimal digits (round(std, 3))"
   ]
  },
  {
   "cell_type": "code",
   "execution_count": 74,
   "metadata": {},
   "outputs": [
    {
     "data": {
      "text/plain": [
       "np.float64(0.007)"
      ]
     },
     "execution_count": 74,
     "metadata": {},
     "output_type": "execute_result"
    }
   ],
   "source": [
    "errors = []\n",
    "for seed in [0, 1, 2, 3, 4, 5, 6, 7, 8, 9]:\n",
    "    X_train, X_val, X_test, y_train, y_val, y_test = get_datasets(seed)\n",
    "    X_train_zero = X_train.copy()\n",
    "    X_train_zero = X_train_zero.fillna(0)\n",
    "    \n",
    "    w0, w = train_linear_regression(X_train_zero, y_train)\n",
    "\n",
    "    X_val_zero = X_val.copy()\n",
    "    X_val_zero = X_val_zero.fillna(0)\n",
    "    y_train_zero_pred = predict(X_val_zero, w0, w)\n",
    "    errors.append(rmse(y_val, y_train_zero_pred))\n",
    "\n",
    "round(np.std(errors), 3)"
   ]
  },
  {
   "cell_type": "markdown",
   "metadata": {},
   "source": [
    "## Question 6\n",
    "\n",
    "\n",
    "Split the dataset like previously, use seed 9.\n",
    "\n",
    "Combine train and validation datasets.\n",
    "\n",
    "Fill the missing values with 0 and train a model with r=0.001.\n",
    "\n",
    "What's the RMSE on the test dataset?"
   ]
  },
  {
   "cell_type": "code",
   "execution_count": 77,
   "metadata": {},
   "outputs": [
    {
     "data": {
      "text/plain": [
       "np.float64(0.516)"
      ]
     },
     "execution_count": 77,
     "metadata": {},
     "output_type": "execute_result"
    }
   ],
   "source": [
    "X_train, X_val, X_test, y_train, y_val, y_test = get_datasets(9)\n",
    "\n",
    "X_train = pd.concat([X_train, X_val], axis=0).reset_index(drop=True)\n",
    "X_train = X_train.fillna(0)\n",
    "\n",
    "y_train = np.concatenate([y_train, y_val])\n",
    "\n",
    "w0, w = train_linear_regression_with_reg(X_train, y_train, 0.001)\n",
    "\n",
    "X_test = X_test.fillna(0)\n",
    "y_pred = predict(X_test, w0, w)\n",
    "round(rmse(y_test, y_pred), 3)"
   ]
  }
 ],
 "metadata": {
  "kernelspec": {
   "display_name": ".venv",
   "language": "python",
   "name": "python3"
  },
  "language_info": {
   "codemirror_mode": {
    "name": "ipython",
    "version": 3
   },
   "file_extension": ".py",
   "mimetype": "text/x-python",
   "name": "python",
   "nbconvert_exporter": "python",
   "pygments_lexer": "ipython3",
   "version": "3.12.9"
  }
 },
 "nbformat": 4,
 "nbformat_minor": 2
}
